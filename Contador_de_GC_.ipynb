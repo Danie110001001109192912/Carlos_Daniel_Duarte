{
  "nbformat": 4,
  "nbformat_minor": 0,
  "metadata": {
    "colab": {
      "provenance": [],
      "authorship_tag": "ABX9TyPzG6sreXKGD49vsJZsNi1J",
      "include_colab_link": true
    },
    "kernelspec": {
      "name": "python3",
      "display_name": "Python 3"
    },
    "language_info": {
      "name": "python"
    }
  },
  "cells": [
    {
      "cell_type": "markdown",
      "metadata": {
        "id": "view-in-github",
        "colab_type": "text"
      },
      "source": [
        "<a href=\"https://colab.research.google.com/github/Danie110001001109192912/Carlos_Daniel_Duarte/blob/main/Contador_de_GC_.ipynb\" target=\"_parent\"><img src=\"https://colab.research.google.com/assets/colab-badge.svg\" alt=\"Open In Colab\"/></a>"
      ]
    },
    {
      "cell_type": "markdown",
      "source": [
        "Contador de CG%"
      ],
      "metadata": {
        "id": "tyuVHAwvOzOC"
      }
    },
    {
      "cell_type": "markdown",
      "source": [
        "Meu gene de exemplo para testes\n",
        "\n",
        "\n",
        ">NM_001752.4 Homo sapiens catalase (CAT), mRNA\n",
        "AACAGGCAGATTTGCCTGCTGAGGGTGGAGACCCACGAGCCGAGGCCTCCTGCAGTGTTCTGCACAGCAA\n",
        "ACCGCACGCTATGGCTGACAGCCGGGATCCCGCCAGCGACCAGATGCAGCACTGGAAGGAGCAGCGGGCC\n",
        "GCGCAGAAAGCTGATGTCCTGACCACTGGAGCTGGTAACCCAGTAGGAGACAAACTTAATGTTATTACAG\n",
        "TAGGGCCCCGTGGGCCCCTTCTTGTTCAGGATGTGGTTTTCACTGATGAAATGGCTCATTTTGACCGAGA\n",
        "GAGAATTCCTGAGAGAGTTGTGCATGCTAAAGGAGCAGGGGCCTTTGGCTACTTTGAGGTCACACATGAC\n",
        "ATTACCAAATACTCCAAGGCAAAGGTATTTGAGCATATTGGAAAGAAGACTCCCATCGCAGTTCGGTTCT\n",
        "CCACTGTTGCTGGAGAATCGGGTTCAGCTGACACAGTTCGGGACCCTCGTGGGTTTGCAGTGAAATTTTA\n",
        "CACAGAAGATGGTAACTGGGATCTCGTTGGAAATAACACCCCCATTTTCTTCATCAGGGATCCCATATTG\n",
        "TTTCCATCTTTTATCCACAGCCAAAAGAGAAATCCTCAGACACATCTGAAGGATCCGGACATGGTCTGGG\n",
        "ACTTCTGGAGCCTACGTCCTGAGTCTCTGCATCAGGTTTCTTTCTTGTTCAGTGATCGGGGGATTCCAGA\n",
        "TGGACATCGCCACATGAATGGATATGGATCACATACTTTCAAGCTGGTTAATGCAAATGGGGAGGCAGTT\n",
        "TATTGCAAATTCCATTATAAGACTGACCAGGGCATCAAAAACCTTTCTGTTGAAGATGCGGCGAGACTTT\n",
        "CCCAGGAAGATCCTGACTATGGCATCCGGGATCTTTTTAACGCCATTGCCACAGGAAAGTACCCCTCCTG\n",
        "GACTTTTTACATCCAGGTCATGACATTTAATCAGGCAGAAACTTTTCCATTTAATCCATTCGATCTCACC\n",
        "AAGGTTTGGCCTCACAAGGACTACCCTCTCATCCCAGTTGGTAAACTGGTCTTAAACCGGAATCCAGTTA\n",
        "ATTACTTTGCTGAGGTTGAACAGATAGCCTTCGACCCAAGCAACATGCCACCTGGCATTGAGGCCAGTCC\n",
        "TGACAAAATGCTTCAGGGCCGCCTTTTTGCCTATCCTGACACTCACCGCCATCGCCTGGGACCCAATTAT\n",
        "CTTCATATACCTGTGAACTGTCCCTACCGTGCTCGAGTGGCCAACTACCAGCGTGACGGCCCGATGTGCA\n",
        "TGCAGGACAATCAGGGTGGTGCTCCAAATTACTACCCCAACAGCTTTGGTGCTCCGGAACAACAGCCTTC\n",
        "TGCCCTGGAGCACAGCATCCAATATTCTGGAGAAGTGCGGAGATTCAACACTGCCAATGATGATAACGTT\n",
        "ACTCAGGTGCGGGCATTCTATGTGAACGTGCTGAATGAGGAACAGAGGAAACGTCTGTGTGAGAACATTG\n",
        "CCGGCCACCTGAAGGATGCACAAATTTTCATCCAGAAGAAAGCGGTCAAGAACTTCACTGAGGTCCACCC\n",
        "TGACTACGGGAGCCACATCCAGGCTCTTCTGGACAAGTACAATGCTGAGAAGCCTAAGAATGCGATTCAC\n",
        "ACCTTTGTGCAGTCCGGATCTCACTTGGCGGCAAGGGAGAAGGCAAATCTGTGAGGCCGGGGCCCTGCAC\n",
        "CTGTGCAGCGAAGCTTAGCGTTCATCCGTGTAACCCGCTCATCACTGGATGAAGATTCTCCTGTGCTAGA\n",
        "TGTGCAAATGCAAGCTAGTGGCTTCAAAATAGAGAATCCCACTTTCTATAGCAGATTGTGTAACAATTTT\n",
        "AATGCTATTTCCCCAGGGGAAAATGAAGGTTAGGATTTAACAGTCATTTAAAAAAAAAATTTGTTTTGAC\n",
        "GGATGATTGGATTATTCATTTAAAATGATTAGAAGGCAAGTTTCTAGCTAGAAATATGATTTTATTTGAC\n",
        "AAAATTTGTTGAAATTATGTATGTTTACATATCACCTCATGGCCTATTATATTAAAATATGGCTATAAAT\n",
        "ATATAAAAAGAAAAGATAAAGATGATCTACTCAGAAATTTTTATTTTTCTAAGGTTCTCATAGGAAAAGT\n",
        "ACATTTAATACAGCAGTGTCATCAGAAGATAACTTGAGCACCGTCATGGCTTAATGTTTATTCCTGATAA\n",
        "TAATTGATCAAATTCATTTTTTTCACTGGAGTTACATTAATGTTAATTCAGCACTGATTTCACAACAGAT\n",
        "CAATTTGTAATTGCTTACATTTTTACAATAAATAATCTGTACGTAAGAACA\n"
      ],
      "metadata": {
        "id": "TOarCQ9AaiQU"
      }
    },
    {
      "cell_type": "code",
      "execution_count": null,
      "metadata": {
        "id": "E9xlm13pOquI"
      },
      "outputs": [],
      "source": [
        "sec = input('Cole a sequencia do seu gene: ')\n",
        "\n",
        "if '>' in sec:\n",
        "  sec_split = sec.splitlines()\n",
        "  seC_nt = sec_split[2:]\n",
        "  dna = '/n'.join(seC_nt)\n",
        "else:\n",
        "  dna = sec\n",
        "\n",
        "dna = sec.upper()\n",
        "\n",
        "c = dna.count('C')\n",
        "g = dna.count('G')\n",
        "\n",
        "gc  = ((g + c) / len(dna)) * 100\n",
        "\n",
        "f = dna.replace(' ', '\\n')\n",
        "print(f'A sequência colada foi : \\n \\n {f}')\n",
        "\n",
        "print(' ')\n",
        "print('--' *20)\n",
        "print(f'a porcentagem de GC no seu gene é : {gc:.2f} %')\n",
        "print('--' *20)"
      ]
    }
  ]
}